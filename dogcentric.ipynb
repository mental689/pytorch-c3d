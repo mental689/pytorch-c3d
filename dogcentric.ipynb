{
 "cells": [
  {
   "cell_type": "code",
   "execution_count": 1,
   "metadata": {},
   "outputs": [],
   "source": [
    "import pickle\n",
    "from glob import glob\n",
    "from tqdm import tqdm\n",
    "\n",
    "import numpy as np\n",
    "np.random.seed(12345)\n",
    "import random\n",
    "random.seed(12345)\n",
    "from sklearn.svm import SVC"
   ]
  },
  {
   "cell_type": "code",
   "execution_count": 2,
   "metadata": {},
   "outputs": [
    {
     "data": {
      "text/plain": [
       "209"
      ]
     },
     "execution_count": 2,
     "metadata": {},
     "output_type": "execute_result"
    }
   ],
   "source": [
    "feature_files = glob('static/features/dogcentric/conv5/*.pkl')\n",
    "len(feature_files)"
   ]
  },
  {
   "cell_type": "code",
   "execution_count": 3,
   "metadata": {},
   "outputs": [
    {
     "name": "stderr",
     "output_type": "stream",
     "text": [
      "100%|██████████| 209/209 [00:00<00:00, 187952.30it/s]\n"
     ]
    },
    {
     "data": {
      "text/plain": [
       "101"
      ]
     },
     "execution_count": 3,
     "metadata": {},
     "output_type": "execute_result"
    }
   ],
   "source": [
    "# Tips from http://robotics.ait.kyushu-u.ac.jp/~yumi/db/first_dog.html\n",
    "# (1) In experiments, we randomly selected half video sequences of each activity from our dataset as training dataset and use the rest of sequences for the testing. \n",
    "# In case that the number of videos (=N) is odd number, we used (N-1) / 2 videos for training.\n",
    "\n",
    "dataset = {}\n",
    "for ff in tqdm(feature_files):\n",
    "    tmp = ff.split('/')\n",
    "    activity = tmp[-1].split('_')[0]\n",
    "    if activity in dataset:\n",
    "        dataset[activity].append(ff)\n",
    "    else:\n",
    "        dataset[activity] = [ff]\n",
    "\n",
    "\n",
    "\n",
    "dataset.keys()\n",
    "\n",
    "training_videos = []\n",
    "testing_videos = []\n",
    "for activity in dataset:\n",
    "    videos = dataset[activity]\n",
    "    N = len(videos)\n",
    "    selected = random.sample(range(N), int((N-N%2)/2))\n",
    "    for i in range(N):\n",
    "        if i in selected:\n",
    "            training_videos.append(videos[i])\n",
    "        else:\n",
    "            testing_videos.append(videos[i])\n",
    "\n",
    "len(training_videos)"
   ]
  },
  {
   "cell_type": "code",
   "execution_count": 4,
   "metadata": {},
   "outputs": [
    {
     "name": "stderr",
     "output_type": "stream",
     "text": [
      "100%|██████████| 101/101 [00:00<00:00, 2006.04it/s]\n",
      "100%|██████████| 101/101 [00:00<00:00, 189.82it/s]\n",
      "100%|██████████| 108/108 [00:00<00:00, 116.67it/s]\n"
     ]
    }
   ],
   "source": [
    "from sklearn.cluster import KMeans\n",
    "K = 32\n",
    "\n",
    "def computeVocabulary(training_videos, K=16):\n",
    "    features = []\n",
    "    for v in tqdm(training_videos):\n",
    "        ft = pickle.load(open(v, 'rb'))\n",
    "        for f in ft:\n",
    "            features.append(f[0])\n",
    "    k = KMeans(n_clusters=K, init='k-means++').fit(features)\n",
    "    return k\n",
    "\n",
    "vocab = computeVocabulary(training_videos, K=K)\n",
    "\n",
    "def encode(testing_videos, vocab):\n",
    "    features = []\n",
    "    codes = []\n",
    "    for v in tqdm(testing_videos):\n",
    "        ft = pickle.load(open(v, 'rb'))\n",
    "        obj = {'video': v, 'code': []}\n",
    "        code = []\n",
    "        for f in ft:\n",
    "            code.extend(vocab.predict([f[0]]))\n",
    "        obj['code'] = code\n",
    "        codes.append(obj)\n",
    "    return codes\n",
    "\n",
    "codes = encode(training_videos, vocab)\n",
    "test_codes = encode(testing_videos, vocab)"
   ]
  },
  {
   "cell_type": "code",
   "execution_count": 5,
   "metadata": {},
   "outputs": [
    {
     "data": {
      "text/plain": [
       "array([0., 0., 0., 0., 0., 0., 0., 0., 0., 0., 0., 0., 0., 0., 2., 0., 0.,\n",
       "       0., 0., 0., 0., 0., 0., 0., 0., 0., 0., 0., 0., 0., 0., 0.])"
      ]
     },
     "execution_count": 5,
     "metadata": {},
     "output_type": "execute_result"
    }
   ],
   "source": [
    "def hist(code):\n",
    "    v = np.zeros(K)\n",
    "    for c in code:\n",
    "        v[c] += 1\n",
    "    return v\n",
    "\n",
    "hist(codes[0]['code'])"
   ]
  },
  {
   "cell_type": "code",
   "execution_count": 6,
   "metadata": {},
   "outputs": [
    {
     "data": {
      "text/plain": [
       "9"
      ]
     },
     "execution_count": 6,
     "metadata": {},
     "output_type": "execute_result"
    }
   ],
   "source": [
    "keys = list(dataset.keys())\n",
    "labels = {}\n",
    "for i, k in enumerate(keys):\n",
    "    labels[k] = i\n",
    "def label(video_path):\n",
    "    return labels[video_path.split('/')[-1].split('_')[0]]\n",
    "\n",
    "label(codes[100]['video'])"
   ]
  },
  {
   "cell_type": "code",
   "execution_count": 7,
   "metadata": {},
   "outputs": [
    {
     "name": "stderr",
     "output_type": "stream",
     "text": [
      "101it [00:00, 32714.86it/s]\n",
      "108it [00:00, 27224.28it/s]\n"
     ]
    },
    {
     "data": {
      "text/plain": [
       "(array([4., 3., 7., 3., 0., 0., 4., 4., 4., 1., 1., 1., 1., 1., 1., 1., 1.,\n",
       "        1., 1., 1., 1., 1., 6., 7., 6., 1., 2., 4., 3., 3., 4., 8., 3., 4.,\n",
       "        3., 3., 1., 3., 4., 3., 0., 9., 4., 4., 4., 1., 0., 9., 9., 0., 0.,\n",
       "        5., 9., 7., 4., 1., 9., 7., 7., 0., 3., 6., 6., 3., 9., 6., 4., 4.,\n",
       "        3., 3., 6., 7., 7., 7., 7., 7., 7., 7., 7., 7., 7., 4., 7., 6., 4.,\n",
       "        4., 8., 8., 7., 8., 8., 7., 8., 8., 8., 6., 4., 8., 9., 9., 9., 4.,\n",
       "        9., 4., 9., 9., 9., 3.]),\n",
       " array([0., 0., 0., 0., 0., 0., 0., 0., 0., 1., 1., 1., 1., 1., 1., 1., 1.,\n",
       "        1., 1., 1., 1., 1., 2., 2., 2., 2., 2., 3., 3., 3., 3., 3., 3., 3.,\n",
       "        3., 3., 3., 3., 3., 3., 4., 4., 4., 4., 4., 4., 4., 4., 4., 4., 4.,\n",
       "        5., 5., 5., 5., 5., 5., 5., 6., 6., 6., 6., 6., 6., 6., 6., 6., 6.,\n",
       "        6., 6., 6., 7., 7., 7., 7., 7., 7., 7., 7., 7., 7., 7., 7., 7., 7.,\n",
       "        8., 8., 8., 8., 8., 8., 8., 8., 8., 8., 8., 8., 8., 9., 9., 9., 9.,\n",
       "        9., 9., 9., 9., 9., 9.]))"
      ]
     },
     "execution_count": 7,
     "metadata": {},
     "output_type": "execute_result"
    }
   ],
   "source": [
    "# Do classification with SVM\n",
    "svc = SVC(gamma='auto',probability=True)\n",
    "\n",
    "X = np.zeros((len(codes), K))\n",
    "y = np.zeros((len(codes),))\n",
    "for i, code in tqdm(enumerate(codes)):\n",
    "    X[i] = hist(code['code'])\n",
    "    y[i] = label(code['video'])\n",
    "\n",
    "svc.fit(X,y)\n",
    "\n",
    "X_test = np.zeros((len(test_codes), K))\n",
    "y_test = np.zeros((len(test_codes),))\n",
    "for i, code in tqdm(enumerate(test_codes)):\n",
    "    X_test[i] = hist(code['code'])\n",
    "    y_test[i] = label(code['video'])\n",
    "\n",
    "y_pred = svc.predict(X_test)\n",
    "y_pred, y_test"
   ]
  },
  {
   "cell_type": "code",
   "execution_count": 8,
   "metadata": {},
   "outputs": [],
   "source": [
    "from sklearn.metrics import confusion_matrix, average_precision_score\n",
    "cnf_matrix = confusion_matrix(y_pred=y_pred, y_true=y_test)"
   ]
  },
  {
   "cell_type": "code",
   "execution_count": 9,
   "metadata": {},
   "outputs": [],
   "source": [
    "import itertools\n",
    "import matplotlib.pyplot as plt\n",
    "def plot_confusion_matrix(cm, classes,\n",
    "                          normalize=False,\n",
    "                          title='Confusion matrix',\n",
    "                          cmap=plt.cm.Blues):\n",
    "    \"\"\"\n",
    "    This function prints and plots the confusion matrix.\n",
    "    Normalization can be applied by setting `normalize=True`.\n",
    "    \"\"\"\n",
    "    if normalize:\n",
    "        cm = cm.astype('float') / cm.sum(axis=1)[:, np.newaxis]\n",
    "        print(\"Normalized confusion matrix\")\n",
    "    else:\n",
    "        print('Confusion matrix, without normalization')\n",
    "\n",
    "    print(cm)\n",
    "\n",
    "    plt.imshow(cm, interpolation='nearest', cmap=cmap)\n",
    "    plt.title(title)\n",
    "    plt.colorbar()\n",
    "    tick_marks = np.arange(len(classes))\n",
    "    plt.xticks(tick_marks, classes, rotation=45)\n",
    "    plt.yticks(tick_marks, classes)\n",
    "\n",
    "    fmt = '.2f' if normalize else 'd'\n",
    "    thresh = cm.max() / 2.\n",
    "    for i, j in itertools.product(range(cm.shape[0]), range(cm.shape[1])):\n",
    "        plt.text(j, i, format(cm[i, j], fmt),\n",
    "                 horizontalalignment=\"center\",\n",
    "                 color=\"white\" if cm[i, j] > thresh else \"black\")\n",
    "\n",
    "    plt.ylabel('True label')\n",
    "    plt.xlabel('Predicted label')\n",
    "    plt.tight_layout()"
   ]
  },
  {
   "cell_type": "code",
   "execution_count": 10,
   "metadata": {},
   "outputs": [
    {
     "name": "stdout",
     "output_type": "stream",
     "text": [
      "Confusion matrix, without normalization\n",
      "[[ 2  0  0  2  4  0  0  1  0  0]\n",
      " [ 0 13  0  0  0  0  0  0  0  0]\n",
      " [ 0  1  1  0  0  0  2  1  0  0]\n",
      " [ 0  1  0  7  4  0  0  0  1  0]\n",
      " [ 4  1  0  0  3  0  0  0  0  3]\n",
      " [ 0  1  0  0  1  1  0  2  0  2]\n",
      " [ 1  0  0  4  2  0  4  1  0  1]\n",
      " [ 0  0  0  0  2  0  1 11  0  0]\n",
      " [ 0  0  0  0  2  0  1  2  8  0]\n",
      " [ 0  0  0  1  2  0  0  0  0  7]]\n",
      "Normalized confusion matrix\n",
      "[[0.22 0.   0.   0.22 0.44 0.   0.   0.11 0.   0.  ]\n",
      " [0.   1.   0.   0.   0.   0.   0.   0.   0.   0.  ]\n",
      " [0.   0.2  0.2  0.   0.   0.   0.4  0.2  0.   0.  ]\n",
      " [0.   0.08 0.   0.54 0.31 0.   0.   0.   0.08 0.  ]\n",
      " [0.36 0.09 0.   0.   0.27 0.   0.   0.   0.   0.27]\n",
      " [0.   0.14 0.   0.   0.14 0.14 0.   0.29 0.   0.29]\n",
      " [0.08 0.   0.   0.31 0.15 0.   0.31 0.08 0.   0.08]\n",
      " [0.   0.   0.   0.   0.14 0.   0.07 0.79 0.   0.  ]\n",
      " [0.   0.   0.   0.   0.15 0.   0.08 0.15 0.62 0.  ]\n",
      " [0.   0.   0.   0.1  0.2  0.   0.   0.   0.   0.7 ]]\n"
     ]
    },
    {
     "data": {
      "image/png": "[encoded data removed]",
      "text/plain": [
       "<matplotlib.figure.Figure at 0x10cba5e48>"
      ]
     },
     "metadata": {
      "needs_background": "light"
     },
     "output_type": "display_data"
    },
    {
     "data": {
      "image/png": "[encoded data removed]",
      "text/plain": [
       "<matplotlib.figure.Figure at 0x10cbd10f0>"
      ]
     },
     "metadata": {
      "needs_background": "light"
     },
     "output_type": "display_data"
    }
   ],
   "source": [
    "np.set_printoptions(precision=2)\n",
    "\n",
    "# Plot non-normalized confusion matrix\n",
    "plt.figure()\n",
    "plot_confusion_matrix(cnf_matrix, classes=keys,\n",
    "                      title='Confusion matrix, without normalization')\n",
    "\n",
    "# Plot normalized confusion matrix\n",
    "plt.figure()\n",
    "plot_confusion_matrix(cnf_matrix, classes=keys, normalize=True,\n",
    "                      title='Normalized confusion matrix')\n",
    "\n",
    "plt.show()"
   ]
  },
  {
   "cell_type": "code",
   "execution_count": 11,
   "metadata": {},
   "outputs": [
    {
     "data": {
      "text/plain": [
       "array([[0.18, 0.04, 0.06, ..., 0.12, 0.07, 0.08],\n",
       "       [0.14, 0.02, 0.05, ..., 0.14, 0.04, 0.05],\n",
       "       [0.07, 0.04, 0.05, ..., 0.22, 0.19, 0.07],\n",
       "       ...,\n",
       "       [0.15, 0.02, 0.03, ..., 0.11, 0.03, 0.29],\n",
       "       [0.12, 0.03, 0.03, ..., 0.2 , 0.05, 0.2 ],\n",
       "       [0.15, 0.02, 0.04, ..., 0.14, 0.04, 0.06]])"
      ]
     },
     "execution_count": 11,
     "metadata": {},
     "output_type": "execute_result"
    }
   ],
   "source": [
    "y_pred2 = svc.predict_proba(X_test)\n",
    "y_pred2"
   ]
  },
  {
   "cell_type": "code",
   "execution_count": 12,
   "metadata": {},
   "outputs": [
    {
     "name": "stdout",
     "output_type": "stream",
     "text": [
      "Score: 52.78 %\n"
     ]
    }
   ],
   "source": [
    "print('Score: {:.2f} %'.format(svc.score(X_test, y_test) * 100))"
   ]
  },
  {
   "cell_type": "code",
   "execution_count": null,
   "metadata": {},
   "outputs": [],
   "source": []
  }
 ],
 "metadata": {
  "kernelspec": {
   "display_name": "Python 3",
   "language": "python",
   "name": "python3"
  },
  "language_info": {
   "codemirror_mode": {
    "name": "ipython",
    "version": 3
   },
   "file_extension": ".py",
   "mimetype": "text/x-python",
   "name": "python",
   "nbconvert_exporter": "python",
   "pygments_lexer": "ipython3",
   "version": "3.7.2"
  }
 },
 "nbformat": 4,
 "nbformat_minor": 2
}
